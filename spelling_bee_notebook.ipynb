{
 "cells": [
  {
   "cell_type": "code",
   "execution_count": 51,
   "metadata": {},
   "outputs": [],
   "source": [
    "word_list_file = open(\"2of12.txt\", \"r\")\n",
    "word_list = word_list_file.read().splitlines()\n",
    "word_list = [x for x in word_list if \"-\" not in x]"
   ]
  },
  {
   "cell_type": "code",
   "execution_count": 52,
   "metadata": {},
   "outputs": [],
   "source": [
    "center_letter = \"m\"\n",
    "other_letters = list(map(''.join, zip(*[iter(\"cilpoem\")]*1)))"
   ]
  },
  {
   "cell_type": "code",
   "execution_count": 53,
   "metadata": {},
   "outputs": [],
   "source": [
    "possibles = [x for x in word_list if center_letter in x]"
   ]
  },
  {
   "cell_type": "code",
   "execution_count": 66,
   "metadata": {},
   "outputs": [],
   "source": [
    "import re\n",
    "import random"
   ]
  },
  {
   "cell_type": "code",
   "execution_count": 55,
   "metadata": {},
   "outputs": [],
   "source": [
    "def matcher(s):\n",
    "    try:\n",
    "        return re.match(\"[cilpoem]+(?![\\w,])\", s).string\n",
    "    except AttributeError:\n",
    "        pass"
   ]
  },
  {
   "cell_type": "code",
   "execution_count": 56,
   "metadata": {},
   "outputs": [
    {
     "data": {
      "text/plain": [
       "43"
      ]
     },
     "execution_count": 56,
     "metadata": {},
     "output_type": "execute_result"
    }
   ],
   "source": [
    "len([matcher(x) for x in possibles if matcher(x)])"
   ]
  },
  {
   "cell_type": "code",
   "execution_count": 57,
   "metadata": {},
   "outputs": [
    {
     "data": {
      "text/plain": [
       "'compile'"
      ]
     },
     "execution_count": 57,
     "metadata": {},
     "output_type": "execute_result"
    }
   ],
   "source": [
    "max([matcher(x) for x in possibles if matcher(x)], key=len)"
   ]
  },
  {
   "cell_type": "code",
   "execution_count": 58,
   "metadata": {},
   "outputs": [],
   "source": [
    "wordle_list = [x for x in word_list if len(x)==5]"
   ]
  },
  {
   "cell_type": "code",
   "execution_count": 60,
   "metadata": {},
   "outputs": [
    {
     "data": {
      "text/plain": [
       "3221"
      ]
     },
     "execution_count": 60,
     "metadata": {},
     "output_type": "execute_result"
    }
   ],
   "source": [
    "len(wordle_list)"
   ]
  },
  {
   "cell_type": "code",
   "execution_count": 208,
   "metadata": {},
   "outputs": [
    {
     "name": "stdout",
     "output_type": "stream",
     "text": [
      "Collecting tinge\n",
      "  Downloading Tinge-0.0.6-py3-none-any.whl (6.7 kB)\n",
      "Installing collected packages: tinge\n",
      "Successfully installed tinge-0.0.6\n"
     ]
    }
   ],
   "source": [
    "!pip install tinge"
   ]
  },
  {
   "cell_type": "code",
   "execution_count": 155,
   "metadata": {},
   "outputs": [],
   "source": [
    "\n",
    "import itertools\n",
    "\n",
    "word_list_file = open(\"wordle-answers-alphabetical.txt\", \"r\")\n",
    "word_list = word_list_file.read().splitlines()\n",
    "word_list = [x for x in word_list if \"-\" not in x]\n",
    "\n",
    "word_list_file_other = open(\"wordle-allowed-guesses.txt\", \"r\")\n",
    "word_list_other = word_list_file_other.read().splitlines()\n",
    "word_list_other = [x for x in word_list_other if \"-\" not in x]\n",
    "\n",
    "word_list_options = list(itertools.chain(word_list_other, word_list))"
   ]
  },
  {
   "cell_type": "code",
   "execution_count": 209,
   "metadata": {},
   "outputs": [],
   "source": [
    "from tinge import colored"
   ]
  },
  {
   "cell_type": "code",
   "execution_count": 362,
   "metadata": {},
   "outputs": [],
   "source": [
    "class Wordle:\n",
    "    def __init__(self):\n",
    "        self.word_list = list(itertools.chain(\n",
    "            open(\"wordle-answers-alphabetical.txt\", \"r\").read().splitlines(),\n",
    "            open(\"wordle-allowed-guesses.txt\", \"r\").read().splitlines()))\n",
    "        self.word = random.choice(word_list)\n",
    "        self.word_letters = list(map(''.join, zip(*[iter(self.word)]*1)))\n",
    "        self.guess_count = 0\n",
    "        self.absent_letters = []\n",
    "\n",
    "    def print_guess(self, guess_results):\n",
    "        [print(colored(x[0], x[1]), end=\"\") for x in guess_results]\n",
    "\n",
    "\n",
    "    def guess_word(self, guess):\n",
    "        guess = guess.lower()\n",
    "        if self.guess_count <= 5:\n",
    "            \n",
    "            if guess not in self.word_list:\n",
    "                if len(guess) < 5:\n",
    "                    print(\"Too short!\")\n",
    "                elif len(guess) > 5:\n",
    "                    print(\"Too long!\")\n",
    "                print(\"Invalid guess\")\n",
    "\n",
    "            elif (guess in self.word_list) & (guess != self.word):\n",
    "                self.guess_count += 1\n",
    "                guess_results = []\n",
    "                guess_letters =  list(map(''.join, zip(*[iter(guess)]*1)))\n",
    "                for l in guess_letters:\n",
    "                    gidx = guess_letters.index(l)\n",
    "                    if l in self.word_letters:\n",
    "                        lidx = self.word_letters.index(l)\n",
    "                        if lidx == gidx:\n",
    "                            guess_results.append((l, 'green'))\n",
    "                        else:\n",
    "                            guess_results.append((l, 'yellow'))\n",
    "                    else:\n",
    "                        self.absent_letters.append(l)\n",
    "                        guess_results.append((l, 'white'))\n",
    "                self.print_guess(guess_results)\n",
    "    \n",
    "            elif guess == self.word:\n",
    "                print(\"You got it!\")\n",
    "        \n",
    "        else:\n",
    "            print(colored(\"Game over punk!\", \"red\"))\n",
    "\n",
    "    \n",
    "    def request_absent_letters(self):\n",
    "        self.absent_letters = list(dict.fromkeys(self.absent_letters))\n",
    "        self.absent_letters.sort()\n",
    "        print(\"\".join(self.absent_letters))\n",
    "        "
   ]
  },
  {
   "cell_type": "code",
   "execution_count": 363,
   "metadata": {},
   "outputs": [],
   "source": [
    "game = Wordle()"
   ]
  },
  {
   "cell_type": "code",
   "execution_count": 364,
   "metadata": {},
   "outputs": [],
   "source": [
    "#game.word"
   ]
  },
  {
   "cell_type": "code",
   "execution_count": 365,
   "metadata": {},
   "outputs": [
    {
     "name": "stdout",
     "output_type": "stream",
     "text": [
      "\u001b[49m\u001b[37ma\u001b[0m\u001b[49m\u001b[37md\u001b[0m\u001b[49m\u001b[37mi\u001b[0m\u001b[49m\u001b[37me\u001b[0m\u001b[49m\u001b[33mu\u001b[0m"
     ]
    }
   ],
   "source": [
    "game.guess_word(\"adieu\")"
   ]
  },
  {
   "cell_type": "code",
   "execution_count": 366,
   "metadata": {},
   "outputs": [
    {
     "name": "stdout",
     "output_type": "stream",
     "text": [
      "Invalid guess\n"
     ]
    }
   ],
   "source": [
    "game.guess_word(\"frulk\")"
   ]
  },
  {
   "cell_type": "code",
   "execution_count": 372,
   "metadata": {},
   "outputs": [
    {
     "name": "stdout",
     "output_type": "stream",
     "text": [
      "\u001b[49m\u001b[31mGame over punk!\u001b[0m\n"
     ]
    }
   ],
   "source": [
    "game.guess_word(\"stuck\")"
   ]
  },
  {
   "cell_type": "code",
   "execution_count": 346,
   "metadata": {},
   "outputs": [
    {
     "name": "stdout",
     "output_type": "stream",
     "text": [
      "hmotu\n"
     ]
    }
   ],
   "source": [
    "game.request_absent_letters()"
   ]
  },
  {
   "cell_type": "code",
   "execution_count": 357,
   "metadata": {},
   "outputs": [
    {
     "data": {
      "text/plain": [
       "3"
      ]
     },
     "execution_count": 357,
     "metadata": {},
     "output_type": "execute_result"
    }
   ],
   "source": [
    "game.guess_count"
   ]
  },
  {
   "cell_type": "code",
   "execution_count": null,
   "metadata": {},
   "outputs": [],
   "source": []
  }
 ],
 "metadata": {
  "interpreter": {
   "hash": "cf5878ea08b4a5135bda40c093301f9aace5be7fade4e5d7b829c70dd5053db0"
  },
  "kernelspec": {
   "display_name": "Python 3.7.0 64-bit (conda)",
   "language": "python",
   "name": "python3"
  },
  "language_info": {
   "codemirror_mode": {
    "name": "ipython",
    "version": 3
   },
   "file_extension": ".py",
   "mimetype": "text/x-python",
   "name": "python",
   "nbconvert_exporter": "python",
   "pygments_lexer": "ipython3",
   "version": "3.7.0"
  },
  "orig_nbformat": 4
 },
 "nbformat": 4,
 "nbformat_minor": 2
}
